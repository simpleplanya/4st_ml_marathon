{
 "cells": [
  {
   "cell_type": "code",
   "execution_count": null,
   "metadata": {
    "collapsed": true
   },
   "outputs": [],
   "source": [
    "# -*- coding: utf-8 -*-\n",
    "\"\"\"\n",
    "Created on Sat Feb 29 12:05:29 2020\n",
    "\n",
    "@author: Rocky\n",
    "\"\"\"\n",
    "from __future__ import print_function\n",
    "import keras\n",
    "from keras.datasets import mnist\n",
    "from keras.models import Sequential\n",
    "from keras.layers import Dense, Dropout, Flatten\n",
    "from keras.layers import Conv2D, MaxPooling2D\n",
    "from keras import backend as K\n",
    "import numpy as np \n",
    "import pandas as pd"
   ]
  },
  {
   "cell_type": "code",
   "execution_count": null,
   "metadata": {
    "collapsed": true
   },
   "outputs": [],
   "source": [
    "def map_size(x_train,x_test):    \n",
    "    if K.image_data_format() == 'channels_first':\n",
    "        x_train = x_train.reshape(x_train.shape[0], 1, img_rows, img_cols)\n",
    "        x_test = x_test.reshape(x_test.shape[0], 1, img_rows, img_cols)\n",
    "    else:\n",
    "        x_train = x_train.reshape(x_train.shape[0], img_rows, img_cols, 1)\n",
    "        x_test = x_test.reshape(x_test.shape[0], img_rows, img_cols, 1)       \n",
    "    return x_train,x_test\n",
    "\n",
    "\n",
    "\n",
    "# input image dimensions\n",
    "img_rows, img_cols = 28, 28\n",
    "# the data, split between train and test sets\n",
    "(x_train, y_train), (x_test, y_test) = mnist.load_data()\n",
    "\n",
    "\n",
    "\n",
    "bool_idx = y_train <5 \n",
    "x_train_remap = x_train[bool_idx]\n",
    "y_train_remap = y_train[bool_idx]\n",
    "bool_idx = y_test <5\n",
    "x_test_remap = x_test[bool_idx]\n",
    "y_test_remap = y_test[bool_idx]\n",
    "\n",
    "\n",
    "batch_size = 128\n",
    "num_classes = 5\n",
    "epochs = 6\n",
    "\n",
    "input_shape = (img_rows, img_cols, 1)\n",
    "x_train_remap , x_test_remap = map_size(x_train_remap,x_test_remap)\n",
    "\n",
    "x_train_remap = x_train_remap.astype('float32')\n",
    "x_test_remap = x_test_remap.astype('float32')\n",
    "x_train_remap /= 255\n",
    "x_test_remap /= 255\n",
    "print('x_train shape:', x_train.shape)\n",
    "print(x_train_remap.shape[0], 'train samples')\n",
    "print(x_test_remap.shape[0], 'test samples')\n",
    "# convert class vectors to binary class matrices\n",
    "y_train_remap = keras.utils.to_categorical(y_train_remap, num_classes)\n",
    "y_test_remap = keras.utils.to_categorical(y_test_remap, num_classes)\n",
    "\n",
    "model = Sequential()\n",
    "model.add(Conv2D(32, kernel_size=(3, 3),\n",
    "                 activation='relu',\n",
    "                 input_shape=input_shape))\n",
    "model.add(Conv2D(64, (3, 3), activation='relu'))\n",
    "model.add(MaxPooling2D(pool_size=(2, 2)))\n",
    "model.add(Dropout(0.25))\n",
    "model.add(Flatten())\n",
    "model.add(Dense(128, activation='relu'))\n",
    "model.add(Dropout(0.5))\n",
    "model.add(Dense(num_classes, activation='softmax'))\n",
    "\n",
    "model.compile(loss=keras.losses.categorical_crossentropy,\n",
    "              optimizer=keras.optimizers.Adadelta(),\n",
    "              metrics=['accuracy'])\n",
    "\n",
    "model.fit(x_train_remap, y_train_remap,\n",
    "          batch_size=batch_size,\n",
    "          epochs=epochs,\n",
    "          verbose=1,\n",
    "          validation_split = 0.2)\n",
    "\n",
    "score = model.evaluate(x_test_remap, y_test_remap, verbose=0)\n",
    "pre_for_test_set = model.predict(x_test_remap)\n",
    "\n",
    "print('Test loss:', score[0])\n",
    "print('Test accuracy:', score[1])\n",
    "\n",
    "\n",
    "\n",
    "\n",
    "\n",
    "\n"
   ]
  },
  {
   "cell_type": "code",
   "execution_count": null,
   "metadata": {
    "collapsed": true
   },
   "outputs": [],
   "source": [
    "print('given 0 ~ 4 testing')\n",
    "bool_idx = y_test <5\n",
    "x_inference_remap = x_test[bool_idx]\n",
    "y_inference_remap = y_test[bool_idx]\n",
    "x_inference_remap = x_inference_remap.reshape(x_inference_remap.shape[0], img_rows, img_cols, 1)\n",
    "# if not translate data type , what happen?\n",
    "x_test_remap.astype('float32')\n",
    "x_test_remap/=255\n",
    "res = model.predict(x_inference_remap)\n",
    "\n",
    "print('predict acc ')\n",
    "decition = np.argmax(res,axis=1)\n",
    "max_pro = np.max(res,axis=1)\n",
    "inference_ans1= pd.DataFrame({'label':y_inference_remap,'decition':decition,'max_pro':max_pro})\n",
    "inference_ans1\n",
    "\n"
   ]
  },
  {
   "cell_type": "code",
   "execution_count": null,
   "metadata": {
    "collapsed": true
   },
   "outputs": [],
   "source": [
    "''' given other number test '''\n",
    "bool_idx = y_test >=5\n",
    "x_inference_remap = x_test[bool_idx]\n",
    "y_inference_remap = y_test[bool_idx]\n",
    "x_inference_remap = x_inference_remap.reshape(x_inference_remap.shape[0], img_rows, img_cols, 1)\n",
    "# if not translate data type , what happen?\n",
    "x_test_remap.astype('float32')\n",
    "x_test_remap/=255\n",
    "res = model.predict(x_inference_remap)\n",
    "\n",
    "#print('predict acc ')\n",
    "decition = np.argmax(res,axis=1)\n",
    "max_pro = np.max(res,axis=1)\n",
    "inference_ans2= pd.DataFrame({'label':y_inference_remap,'decition':decition,'max_pro':max_pro})\n",
    "inference_ans2\n"
   ]
  }
 ],
 "metadata": {
  "kernelspec": {
   "display_name": "Python 3",
   "language": "python",
   "name": "python3"
  },
  "language_info": {
   "codemirror_mode": {
    "name": "ipython",
    "version": 3
   },
   "file_extension": ".py",
   "mimetype": "text/x-python",
   "name": "python",
   "nbconvert_exporter": "python",
   "pygments_lexer": "ipython3",
   "version": "3.6.1"
  }
 },
 "nbformat": 4,
 "nbformat_minor": 2
}
