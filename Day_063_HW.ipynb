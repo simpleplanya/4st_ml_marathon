{
 "cells": [
  {
   "cell_type": "markdown",
   "metadata": {},
   "source": [
    "# 作業\n",
    "* 在精簡深度學習的方式上 : 卷積類神經 (CNN) 採用像素遠近，而遞歸類神經 (RNN) 採用著則是時間遠近\n",
    "* 那麼，既然有著類似的設計精神，兩者是否有可能互換應用呢?"
   ]
  },
  {
   "cell_type": "markdown",
   "metadata": {
    "collapsed": true
   },
   "source": [
    "有機會，然而還是試應用情境而定,畢竟CNN的Convolution理念用在影像上比較直觀,而RNN的遞歸想法與語意上的前後文依賴關係,  \n",
    "用起來也較直覺,另外也有看到兩者混用的情境-Image Captioning  \n",
    "https://chtseng.wordpress.com/2019/02/01/%E7%9C%8B%E5%9C%96%E8%AA%AA%E6%95%85%E4%BA%8B%E7%9A%84image-captioning/  "
   ]
  }
 ],
 "metadata": {
  "kernelspec": {
   "display_name": "Python 3",
   "language": "python",
   "name": "python3"
  },
  "language_info": {
   "codemirror_mode": {
    "name": "ipython",
    "version": 3
   },
   "file_extension": ".py",
   "mimetype": "text/x-python",
   "name": "python",
   "nbconvert_exporter": "python",
   "pygments_lexer": "ipython3",
   "version": "3.6.1"
  }
 },
 "nbformat": 4,
 "nbformat_minor": 2
}
