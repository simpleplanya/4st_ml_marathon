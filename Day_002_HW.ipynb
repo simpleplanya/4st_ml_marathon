{
 "cells": [
  {
   "cell_type": "markdown",
   "metadata": {},
   "source": [
    "## [作業目標]\n",
    "了解機器學習適合應用的領域與範疇。"
   ]
  },
  {
   "cell_type": "markdown",
   "metadata": {},
   "source": [
    "## [作業重點]\n",
    "透過瞭解機器學習的運作方式，找出非常適用機器學習應用的領域及其原因"
   ]
  },
  {
   "cell_type": "markdown",
   "metadata": {},
   "source": [
    "## 作業\n",
    "請找出一個你認為機器學習可以發光發熱的領域並闡述原因? "
   ]
  },
  {
   "cell_type": "code",
   "execution_count": null,
   "metadata": {
    "collapsed": true
   },
   "outputs": [],
   "source": [
    "Ans: \n",
    "    個人認為是影像辨識,已一個開發者角度而言,影像辨識的資源相較其他機器學習應用來的豐富,\n",
    "    舉例來說:現行已存在許多image net架構提供大家使用,而且使用後效果通常不會太差(在資料充足,且具代表性的情況下),\n",
    "    甚至也有人們開發好的model來提供給大家使用,如YOLO.\n",
    "    而在目前也可以在生活上看到影像辨識的應用如臉部解鎖,自駕車,醫學影像辨識等等.\n",
    "    所以相信在未來影像辨識一定可以為人類帶來更多有趣有用的貢獻"
   ]
  }
 ],
 "metadata": {
  "kernelspec": {
   "display_name": "Python 3",
   "language": "python",
   "name": "python3"
  },
  "language_info": {
   "codemirror_mode": {
    "name": "ipython",
    "version": 3
   },
   "file_extension": ".py",
   "mimetype": "text/x-python",
   "name": "python",
   "nbconvert_exporter": "python",
   "pygments_lexer": "ipython3",
   "version": "3.6.1"
  }
 },
 "nbformat": 4,
 "nbformat_minor": 2
}
