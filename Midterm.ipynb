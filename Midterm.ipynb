{
 "cells": [
  {
   "cell_type": "code",
   "execution_count": 3,
   "metadata": {},
   "outputs": [
    {
     "name": "stderr",
     "output_type": "stream",
     "text": [
      "C:\\Users\\Rocky\\Anaconda3\\lib\\site-packages\\pandas\\core\\frame.py:4153: SettingWithCopyWarning: \n",
      "A value is trying to be set on a copy of a slice from a DataFrame\n",
      "\n",
      "See the caveats in the documentation: https://pandas.pydata.org/pandas-docs/stable/user_guide/indexing.html#returning-a-view-versus-a-copy\n",
      "  downcast=downcast,\n"
     ]
    },
    {
     "data": {
      "text/plain": [
       "0.8936758893280633"
      ]
     },
     "execution_count": 3,
     "metadata": {},
     "output_type": "execute_result"
    }
   ],
   "source": [
    "# -*- coding: utf-8 -*-\n",
    "\"\"\"\n",
    "Created on Thu Apr 30 21:46:05 2020\n",
    "\n",
    "@author: Rocky\n",
    "\"\"\"\n",
    "\n",
    "import pandas as pd \n",
    "from sklearn.model_selection import cross_val_score\n",
    "#from xgboost import XGBClassifier\n",
    "from sklearn.ensemble import RandomForestClassifier\n",
    "import matplotlib.pyplot as plt \n",
    "\n",
    "train_data_source = pd.read_csv('C:\\\\Users\\\\Rocky\\\\Desktop\\\\train_data.csv')\n",
    "train_Y = train_data_source['poi']\n",
    "train_data_source.describe()\n",
    "\n",
    "#觀察other欄位與其他欄位關係\n",
    "corr_res_other  = train_data_source.corr()['other']\n",
    "plt.scatter(train_data_source['total_payments'],train_data_source['other'])\n",
    "corr_res_expenses  = train_data_source.corr()['expenses']\n",
    "plt.scatter(train_data_source['expenses'],train_data_source['director_fees'])\n",
    "corr_res_salary  = train_data_source.corr()['salary']\n",
    "from sklearn.linear_model import LinearRegression\n",
    "import numpy as np\n",
    "plt.scatter(train_data_source['salary'],train_data_source['bonus'])\n",
    "plt.scatter(train_data_source['salary'],train_data_source['exercised_stock_options'])\n",
    "regression_train  = train_data_source[(~(train_data_source['salary'].isna() ) & (~train_data_source['exercised_stock_options'].isna() ) ) ]\n",
    "regression_x = np.asarray(regression_train[['exercised_stock_options']])\n",
    "regression_y =  np.asarray(regression_train[['salary']])\n",
    "lr = LinearRegression()\n",
    "lr.fit(regression_x,regression_y)\n",
    "predict_data  = train_data_source[(train_data_source['salary'].isna() ) ]\n",
    "pre_salary = lr.predict(np.asarray(predict_data[['exercised_stock_options']].fillna(0) ))\n",
    "train_data_source.loc[train_data_source['salary'].isna(),'salary' ] = pre_salary\n",
    "\n",
    "\n",
    "\n",
    "\n",
    "train_data_source['to_poi_ratio'] = train_data_source['from_poi_to_this_person'] / train_data_source['to_messages']\n",
    "train_data_source['from_poi_ratio'] = train_data_source['from_this_person_to_poi'] / train_data_source['from_messages']\n",
    "train_data_source['shared_poi_ratio'] = train_data_source['shared_receipt_with_poi'] / train_data_source['to_messages']\n",
    "train_data_source['bonus_to_salary'] = train_data_source['bonus'] / train_data_source['salary']\n",
    "train_data_source['bonus_to_total'] = train_data_source['bonus'] / train_data_source['total_payments']\n",
    "\n",
    "\n",
    "non_fea = ['name','email_address','poi']\n",
    "fea_col = list(train_data_source.columns)\n",
    "fea_col.remove('name')\n",
    "fea_col.remove('email_address')\n",
    "fea_col.remove('poi')\n",
    "# poi none data\n",
    "fea_col.remove('loan_advances')\n",
    "fea_col.remove('director_fees')\n",
    "fea_col.remove('restricted_stock_deferred')\n",
    "train_X = train_data_source[fea_col]\n",
    "\n",
    "#salary_outlier=600000\n",
    "#train_X.loc[train_X['salary'] >salary_outlier,'salary'] = train_X['salary'].median()\n",
    "#train_X['salary'].fillna(train_X['salary'].median(),inplace=True)\n",
    "#bonus_outlier=500000\n",
    "#train_X.loc[train_X['bonus'] >salary_outlier,'bonus'] = train_X['bonus'].median()\n",
    "#train_X['bonus'].fillna(train_X['bonus'].median(),inplace=True)\n",
    "#long_term_incentive_outlier = 3000000\n",
    "#train_X.loc[train_X['long_term_incentive'] >long_term_incentive_outlier,'long_term_incentive'] = train_X['long_term_incentive'].median()\n",
    "#train_X['long_term_incentive'].fillna(train_X['long_term_incentive'].median(),inplace=True)\n",
    "\n",
    "train_X.fillna(0,inplace=True)\n",
    "estimator = RandomForestClassifier(criterion='entropy',max_features='auto')\n",
    "score \n",
    "\n",
    "\n",
    "\n",
    "\n"
   ]
  },
  {
   "cell_type": "code",
   "execution_count": 2,
   "metadata": {
    "collapsed": true
   },
   "outputs": [],
   "source": [
    "#print(score)\n",
    "#\n",
    "#param_grid ={'criterion':['gini','entropy'],\n",
    "#             'min_samples_leaf':[1,2,3],\n",
    "#             'max_features' : ['auto','sqrt','log2']}\n",
    "\n",
    "    \n",
    "estimator.fit(train_X,train_Y)\n",
    "test_data_source = pd.read_csv('C:\\\\Users\\\\Rocky\\\\Desktop\\\\test_features.csv')\n",
    "#test_data_source['salary'].fillna(test_data_source['salary'].median(),inplace=True)\n",
    "#test_data_source['bonus'].fillna(test_data_source['bonus'].median(),inplace=True)\n",
    "#test_data_source['long_term_incentive'].fillna(test_data_source['long_term_incentive'].median(),inplace=True)\n",
    "#test_data_source.fillna(test_data_source.median(),inplace=True)\n",
    "\n",
    "salary_predict_data  = test_data_source[(test_data_source['salary'].isna() )]\n",
    "test_pre_salary = lr.predict(np.asarray(salary_predict_data[['exercised_stock_options']].fillna(0) ))\n",
    "test_data_source.loc[test_data_source['salary'].isna(),'salary' ] = test_pre_salary\n",
    "\n",
    "\n",
    "\n",
    "test_data_source['to_poi_ratio'] = test_data_source['from_poi_to_this_person'] / test_data_source['to_messages']\n",
    "test_data_source['from_poi_ratio'] = test_data_source['from_this_person_to_poi'] / test_data_source['from_messages']\n",
    "test_data_source['shared_poi_ratio'] = test_data_source['shared_receipt_with_poi'] / test_data_source['to_messages']\n",
    "test_data_source['bonus_to_salary'] = test_data_source['bonus'] / test_data_source['salary']\n",
    "test_data_source['bonus_to_total'] = test_data_source['bonus'] / test_data_source['total_payments']\n",
    "\n",
    "test_data_source.fillna(0,inplace=True)\n",
    "\n",
    "test_data = test_data_source[fea_col]\n",
    "\n",
    "predict_res = estimator.predict_proba(test_data)\n",
    "native_res = predict_res[:,1]\n",
    "res_df =  pd.DataFrame()\n",
    "res_df['name'] = test_data_source['name']\n",
    "res_df['poi'] = native_res\n",
    "res_df.to_csv('using_lr_padding_value_v2.csv',index=False)\n",
    "\n"
   ]
  }
 ],
 "metadata": {
  "kernelspec": {
   "display_name": "Python 3",
   "language": "python",
   "name": "python3"
  },
  "language_info": {
   "codemirror_mode": {
    "name": "ipython",
    "version": 3
   },
   "file_extension": ".py",
   "mimetype": "text/x-python",
   "name": "python",
   "nbconvert_exporter": "python",
   "pygments_lexer": "ipython3",
   "version": "3.6.1"
  }
 },
 "nbformat": 4,
 "nbformat_minor": 2
}
